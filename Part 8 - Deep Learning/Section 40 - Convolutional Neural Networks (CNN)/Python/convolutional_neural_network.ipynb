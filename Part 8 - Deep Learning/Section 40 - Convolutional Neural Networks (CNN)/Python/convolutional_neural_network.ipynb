{
 "metadata": {
  "language_info": {
   "codemirror_mode": {
    "name": "ipython",
    "version": 3
   },
   "file_extension": ".py",
   "mimetype": "text/x-python",
   "name": "python",
   "nbconvert_exporter": "python",
   "pygments_lexer": "ipython3",
   "version": "3.8.4-final"
  },
  "orig_nbformat": 2,
  "kernelspec": {
   "name": "python_defaultSpec_1598270200846",
   "display_name": "Python 3.8.4 64-bit"
  }
 },
 "nbformat": 4,
 "nbformat_minor": 2,
 "cells": [
  {
   "cell_type": "markdown",
   "metadata": {},
   "source": [
    "# CONVOLUTiONAL NEURAL NETWORK"
   ]
  },
  {
   "cell_type": "code",
   "execution_count": 1,
   "metadata": {},
   "outputs": [],
   "source": [
    "import tensorflow as tf\n",
    "from keras.preprocessing.image import ImageDataGenerator"
   ]
  },
  {
   "cell_type": "code",
   "execution_count": 3,
   "metadata": {},
   "outputs": [
    {
     "output_type": "execute_result",
     "data": {
      "text/plain": "'2.2.0'"
     },
     "metadata": {},
     "execution_count": 3
    }
   ],
   "source": [
    "tf.__version__"
   ]
  },
  {
   "cell_type": "markdown",
   "metadata": {},
   "source": [
    "## P1 - Data Preprocessing"
   ]
  },
  {
   "cell_type": "markdown",
   "metadata": {},
   "source": [
    "### Creating Training set"
   ]
  },
  {
   "cell_type": "code",
   "execution_count": 6,
   "metadata": {
    "tags": []
   },
   "outputs": [
    {
     "output_type": "stream",
     "name": "stdout",
     "text": "Found 8000 images belonging to 2 classes.\n"
    }
   ],
   "source": [
    "train_datagen = ImageDataGenerator(rescale=1./255,\n",
    "                                   shear_range=0.2,\n",
    "                                   zoom_range=0.2,\n",
    "                                   horizontal_flip=True)\n",
    "train_set = train_datagen.flow_from_directory('dataset/training_set',\n",
    "                                              target_size=(64,64),\n",
    "                                              batch_size=32,\n",
    "                                              class_mode='binary')"
   ]
  },
  {
   "cell_type": "markdown",
   "metadata": {},
   "source": [
    "### Creating Test Set"
   ]
  },
  {
   "cell_type": "code",
   "execution_count": 8,
   "metadata": {
    "tags": []
   },
   "outputs": [
    {
     "output_type": "stream",
     "name": "stdout",
     "text": "Found 2000 images belonging to 2 classes.\n"
    }
   ],
   "source": [
    "test_datagen = ImageDataGenerator(rescale=1./255)\n",
    "test_set = test_datagen.flow_from_directory('dataset/test_set',\n",
    "                                              target_size=(64,64),\n",
    "                                              batch_size=32,\n",
    "                                              class_mode='binary')"
   ]
  },
  {
   "cell_type": "markdown",
   "metadata": {},
   "source": [
    "## P2 - Building the CNN"
   ]
  },
  {
   "cell_type": "markdown",
   "metadata": {},
   "source": [
    "### Step 1 - Convolution"
   ]
  },
  {
   "cell_type": "code",
   "execution_count": 9,
   "metadata": {},
   "outputs": [],
   "source": [
    "\"\"\"filters are numbers of features, kernel_size refer to size of feature detector matrix, input_shape 3 is for colored and 64, 64 we chose above in data preprocessing\"\"\"\n",
    "cnn = tf.keras.models.Sequential()      #Initialising the CNN\n",
    "cnn.add(tf.keras.layers.Conv2D(filters=32, kernel_size=3, padding=\"same\", activation=\"relu\", input_shape=[64, 64, 3]))"
   ]
  },
  {
   "cell_type": "markdown",
   "metadata": {},
   "source": [
    "### Step 2 - Pooling"
   ]
  },
  {
   "cell_type": "code",
   "execution_count": 10,
   "metadata": {},
   "outputs": [],
   "source": [
    "\"\"\" pool_size is size of pool martrix, strides is how we move like in example we moved sidewise by leaving 2 pixel\"\"\"\n",
    "cnn.add(tf.keras.layers.MaxPool2D(pool_size=2, strides=2, padding='valid'))"
   ]
  },
  {
   "cell_type": "markdown",
   "metadata": {},
   "source": [
    "### Adding a second convolutional layer"
   ]
  },
  {
   "cell_type": "code",
   "execution_count": 11,
   "metadata": {},
   "outputs": [],
   "source": [
    "cnn.add(tf.keras.layers.Conv2D(filters=32, kernel_size=3, padding=\"same\", activation=\"relu\"))\n",
    "cnn.add(tf.keras.layers.MaxPool2D(pool_size=2, strides=2, padding='valid'))"
   ]
  },
  {
   "cell_type": "markdown",
   "metadata": {},
   "source": [
    "### Step 3 - Flattening"
   ]
  },
  {
   "cell_type": "code",
   "execution_count": 12,
   "metadata": {},
   "outputs": [],
   "source": [
    "cnn.add(tf.keras.layers.Flatten())"
   ]
  },
  {
   "cell_type": "markdown",
   "metadata": {},
   "source": [
    "### Step 4 - Full Connection"
   ]
  },
  {
   "cell_type": "code",
   "execution_count": 13,
   "metadata": {},
   "outputs": [],
   "source": [
    "\"\"\" 128 are number of neurons\"\"\"\n",
    "cnn.add(tf.keras.layers.Dense(units=128, activation='relu'))"
   ]
  },
  {
   "cell_type": "markdown",
   "metadata": {},
   "source": [
    "### Step 5 - Output Layer"
   ]
  },
  {
   "cell_type": "code",
   "execution_count": 14,
   "metadata": {},
   "outputs": [],
   "source": [
    "cnn.add(tf.keras.layers.Dense(units=1, activation='sigmoid'))"
   ]
  },
  {
   "cell_type": "markdown",
   "metadata": {},
   "source": [
    "## P3 - Training the CNN"
   ]
  },
  {
   "cell_type": "markdown",
   "metadata": {},
   "source": [
    "### Compiling the CNN"
   ]
  },
  {
   "cell_type": "code",
   "execution_count": 15,
   "metadata": {},
   "outputs": [],
   "source": [
    "cnn.compile(optimizer='adam', loss='binary_crossentropy', metrics=['accuracy'])"
   ]
  },
  {
   "cell_type": "markdown",
   "metadata": {},
   "source": [
    "### Training the CNN on the Training set and evaluating it on the Test set"
   ]
  },
  {
   "cell_type": "code",
   "execution_count": 16,
   "metadata": {
    "tags": []
   },
   "outputs": [
    {
     "output_type": "stream",
     "name": "stdout",
     "text": "Epoch 1/25\n250/250 [==============================] - 268s 1s/step - loss: 0.6570 - accuracy: 0.5954 - val_loss: 0.5766 - val_accuracy: 0.7030\nEpoch 2/25\n250/250 [==============================] - 124s 496ms/step - loss: 0.5910 - accuracy: 0.6902 - val_loss: 0.5440 - val_accuracy: 0.7290\nEpoch 3/25\n250/250 [==============================] - 84s 337ms/step - loss: 0.5353 - accuracy: 0.7340 - val_loss: 0.5309 - val_accuracy: 0.7365\nEpoch 4/25\n250/250 [==============================] - 98s 393ms/step - loss: 0.5058 - accuracy: 0.7499 - val_loss: 0.4939 - val_accuracy: 0.7505\nEpoch 5/25\n250/250 [==============================] - 83s 331ms/step - loss: 0.4827 - accuracy: 0.7642 - val_loss: 0.4664 - val_accuracy: 0.7850\nEpoch 6/25\n250/250 [==============================] - 88s 351ms/step - loss: 0.4614 - accuracy: 0.7810 - val_loss: 0.4768 - val_accuracy: 0.7730\nEpoch 7/25\n250/250 [==============================] - 86s 346ms/step - loss: 0.4389 - accuracy: 0.7922 - val_loss: 0.4885 - val_accuracy: 0.7680\nEpoch 8/25\n250/250 [==============================] - 87s 348ms/step - loss: 0.4283 - accuracy: 0.7970 - val_loss: 0.4534 - val_accuracy: 0.7915\nEpoch 9/25\n250/250 [==============================] - 87s 350ms/step - loss: 0.4244 - accuracy: 0.8023 - val_loss: 0.4478 - val_accuracy: 0.7985\nEpoch 10/25\n250/250 [==============================] - 86s 346ms/step - loss: 0.4017 - accuracy: 0.8159 - val_loss: 0.4489 - val_accuracy: 0.7975\nEpoch 11/25\n250/250 [==============================] - 86s 346ms/step - loss: 0.4003 - accuracy: 0.8184 - val_loss: 0.4980 - val_accuracy: 0.7690\nEpoch 12/25\n250/250 [==============================] - 83s 334ms/step - loss: 0.3843 - accuracy: 0.8250 - val_loss: 0.4820 - val_accuracy: 0.7880\nEpoch 13/25\n250/250 [==============================] - 79s 316ms/step - loss: 0.3747 - accuracy: 0.8281 - val_loss: 0.4513 - val_accuracy: 0.8045\nEpoch 14/25\n250/250 [==============================] - 80s 320ms/step - loss: 0.3705 - accuracy: 0.8311 - val_loss: 0.4285 - val_accuracy: 0.8145\nEpoch 15/25\n250/250 [==============================] - 91s 363ms/step - loss: 0.3486 - accuracy: 0.8468 - val_loss: 0.4630 - val_accuracy: 0.7885\nEpoch 16/25\n250/250 [==============================] - 89s 357ms/step - loss: 0.3444 - accuracy: 0.8519 - val_loss: 0.5082 - val_accuracy: 0.7820\nEpoch 17/25\n250/250 [==============================] - 73s 293ms/step - loss: 0.3349 - accuracy: 0.8497 - val_loss: 0.4546 - val_accuracy: 0.8010\nEpoch 18/25\n250/250 [==============================] - 73s 293ms/step - loss: 0.3214 - accuracy: 0.8595 - val_loss: 0.4458 - val_accuracy: 0.8075\nEpoch 19/25\n250/250 [==============================] - 72s 290ms/step - loss: 0.3244 - accuracy: 0.8583 - val_loss: 0.4706 - val_accuracy: 0.8015\nEpoch 20/25\n250/250 [==============================] - 72s 286ms/step - loss: 0.2964 - accuracy: 0.8698 - val_loss: 0.5177 - val_accuracy: 0.7940\nEpoch 21/25\n250/250 [==============================] - 66s 263ms/step - loss: 0.2893 - accuracy: 0.8755 - val_loss: 0.4708 - val_accuracy: 0.7995\nEpoch 22/25\n250/250 [==============================] - 66s 265ms/step - loss: 0.2816 - accuracy: 0.8791 - val_loss: 0.4775 - val_accuracy: 0.8115\nEpoch 23/25\n250/250 [==============================] - 69s 275ms/step - loss: 0.2816 - accuracy: 0.8817 - val_loss: 0.4816 - val_accuracy: 0.8035\nEpoch 24/25\n250/250 [==============================] - 67s 269ms/step - loss: 0.2675 - accuracy: 0.8878 - val_loss: 0.4863 - val_accuracy: 0.8090\nEpoch 25/25\n250/250 [==============================] - 66s 263ms/step - loss: 0.2538 - accuracy: 0.8916 - val_loss: 0.4982 - val_accuracy: 0.8025\n"
    },
    {
     "output_type": "execute_result",
     "data": {
      "text/plain": "<tensorflow.python.keras.callbacks.History at 0x1e2f50bc6d0>"
     },
     "metadata": {},
     "execution_count": 16
    }
   ],
   "source": [
    "cnn.fit(x = train_set, validation_data= test_set, epochs=25)"
   ]
  },
  {
   "cell_type": "markdown",
   "metadata": {},
   "source": [
    "## P4 - Making a single prediction"
   ]
  },
  {
   "cell_type": "code",
   "execution_count": 20,
   "metadata": {
    "tags": []
   },
   "outputs": [
    {
     "output_type": "stream",
     "name": "stdout",
     "text": "dog\n"
    }
   ],
   "source": [
    "import numpy as np\n",
    "from keras.preprocessing import image\n",
    "test_image = image.load_img(\"dataset/single_prediction/cat_or_dog_1.jpg\", target_size=(64, 64))\n",
    "test_image = image.img_to_array(test_image)\n",
    "test_image = np.expand_dims(test_image, axis=0)\n",
    "res = cnn.predict(test_image)\n",
    "train_set.class_indices\n",
    "if res[0][0] == 1:\n",
    "    prediction = 'dog'\n",
    "else:\n",
    "    prediction = 'cat'\n",
    "print(prediction)"
   ]
  },
  {
   "cell_type": "code",
   "execution_count": null,
   "metadata": {},
   "outputs": [],
   "source": []
  }
 ]
}