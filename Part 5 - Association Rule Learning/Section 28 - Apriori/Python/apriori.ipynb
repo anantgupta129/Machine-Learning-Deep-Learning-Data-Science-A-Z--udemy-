{
 "metadata": {
  "language_info": {
   "codemirror_mode": {
    "name": "ipython",
    "version": 3
   },
   "file_extension": ".py",
   "mimetype": "text/x-python",
   "name": "python",
   "nbconvert_exporter": "python",
   "pygments_lexer": "ipython3",
   "version": "3.8.4-final"
  },
  "orig_nbformat": 2,
  "kernelspec": {
   "name": "python_defaultSpec_1597666662349",
   "display_name": "Python 3.8.4 64-bit"
  }
 },
 "nbformat": 4,
 "nbformat_minor": 2,
 "cells": [
  {
   "cell_type": "markdown",
   "metadata": {},
   "source": [
    "# APRiORi RULE LEARNiNg"
   ]
  },
  {
   "cell_type": "code",
   "execution_count": 1,
   "metadata": {},
   "outputs": [],
   "source": [
    "import numpy as np\n",
    "import matplotlib.pyplot as plt\n",
    "import pandas as pd"
   ]
  },
  {
   "cell_type": "markdown",
   "metadata": {},
   "source": [
    "## Data Preprocessing"
   ]
  },
  {
   "cell_type": "code",
   "execution_count": 20,
   "metadata": {},
   "outputs": [],
   "source": [
    "dts = pd.read_csv(\"Market_Basket_Optimisation.csv\", header = None)\n",
    "transactions =[]\n",
    "for i in range(0, len(dts)):\n",
    "    transactions.append([str(dts.values[i, j]) for j in range(0, len(dts.columns))])\n"
   ]
  },
  {
   "cell_type": "markdown",
   "metadata": {},
   "source": [
    "## Training APRiORi on dataset"
   ]
  },
  {
   "cell_type": "code",
   "execution_count": 29,
   "metadata": {},
   "outputs": [
    {
     "output_type": "execute_result",
     "data": {
      "text/plain": "'\\nconsider we want min 3 products per 3*7(weeks) 21/7501 =0.0027 ~ 0.03 i.e. min_support\\nmin_confidence jut try different values till 0.8, min_length and max_length depends upon problem here we say that we saying buy 1 product and get 1 for free \\nmin_lift is just try different values \\n'"
     },
     "metadata": {},
     "execution_count": 29
    }
   ],
   "source": [
    "from apyori import apriori\n",
    "rules = apriori(transactions = transactions, min_support = 0.003, min_confidence = 0.2, min_lift = 3, min_length = 2, max_length = 2)\n",
    "\"\"\"\n",
    "consider we want min 3 products per 3*7(weeks) 21/7501 =0.0027 ~ 0.03 i.e. min_support\n",
    "min_confidence jut try different values till 0.8, min_length and max_length depends upon problem here we say that we saying buy 1 product and get 1 for free \n",
    "min_lift is just try different values \n",
    "\"\"\""
   ]
  },
  {
   "cell_type": "markdown",
   "metadata": {},
   "source": [
    "## ViSualising REsults"
   ]
  },
  {
   "cell_type": "markdown",
   "metadata": {},
   "source": [
    "### Displaying the first results coming directly from the output of the apriori function"
   ]
  },
  {
   "cell_type": "code",
   "execution_count": 30,
   "metadata": {},
   "outputs": [],
   "source": [
    "results = list(rules)"
   ]
  },
  {
   "cell_type": "markdown",
   "metadata": {},
   "source": [
    "### Putting the results well organised into a Pandas DataFrame & DiSPlaYiNG"
   ]
  },
  {
   "cell_type": "code",
   "execution_count": 59,
   "metadata": {},
   "outputs": [],
   "source": [
    "def inspect(results):\n",
    "    lhs = [tuple(i[2][0][0])[0] for i in results]\n",
    "    rhs = [tuple(i[2][0][1])[0] for i in results]\n",
    "    support = [i[1] for i in results]\n",
    "    confidence = [i[2][0][2] for i in results]\n",
    "    lift = [i[2][0][3] for i in results]\n",
    "    return list(zip(lhs, rhs, support, confidence, lift))\n",
    "res_df = pd.DataFrame(inspect(results), columns= [\"Left Hand Side\", \"Right Hand Side\", \"Support\", \"Confidence\", \"Lift\"])"
   ]
  },
  {
   "cell_type": "code",
   "execution_count": 60,
   "metadata": {},
   "outputs": [
    {
     "output_type": "execute_result",
     "data": {
      "text/plain": "         Left Hand Side Right Hand Side   Support  Confidence      Lift\n0           light cream         chicken  0.004533    0.290598  4.843951\n1  mushroom cream sauce        escalope  0.005733    0.300699  3.790833\n2                 pasta        escalope  0.005866    0.372881  4.700812\n3         fromage blanc           honey  0.003333    0.245098  5.164271\n4         herb & pepper     ground beef  0.015998    0.323450  3.291994\n5          tomato sauce     ground beef  0.005333    0.377358  3.840659\n6           light cream       olive oil  0.003200    0.205128  3.114710\n7     whole wheat pasta       olive oil  0.007999    0.271493  4.122410\n8                 pasta          shrimp  0.005066    0.322034  4.506672",
      "text/html": "<div>\n<style scoped>\n    .dataframe tbody tr th:only-of-type {\n        vertical-align: middle;\n    }\n\n    .dataframe tbody tr th {\n        vertical-align: top;\n    }\n\n    .dataframe thead th {\n        text-align: right;\n    }\n</style>\n<table border=\"1\" class=\"dataframe\">\n  <thead>\n    <tr style=\"text-align: right;\">\n      <th></th>\n      <th>Left Hand Side</th>\n      <th>Right Hand Side</th>\n      <th>Support</th>\n      <th>Confidence</th>\n      <th>Lift</th>\n    </tr>\n  </thead>\n  <tbody>\n    <tr>\n      <th>0</th>\n      <td>light cream</td>\n      <td>chicken</td>\n      <td>0.004533</td>\n      <td>0.290598</td>\n      <td>4.843951</td>\n    </tr>\n    <tr>\n      <th>1</th>\n      <td>mushroom cream sauce</td>\n      <td>escalope</td>\n      <td>0.005733</td>\n      <td>0.300699</td>\n      <td>3.790833</td>\n    </tr>\n    <tr>\n      <th>2</th>\n      <td>pasta</td>\n      <td>escalope</td>\n      <td>0.005866</td>\n      <td>0.372881</td>\n      <td>4.700812</td>\n    </tr>\n    <tr>\n      <th>3</th>\n      <td>fromage blanc</td>\n      <td>honey</td>\n      <td>0.003333</td>\n      <td>0.245098</td>\n      <td>5.164271</td>\n    </tr>\n    <tr>\n      <th>4</th>\n      <td>herb &amp; pepper</td>\n      <td>ground beef</td>\n      <td>0.015998</td>\n      <td>0.323450</td>\n      <td>3.291994</td>\n    </tr>\n    <tr>\n      <th>5</th>\n      <td>tomato sauce</td>\n      <td>ground beef</td>\n      <td>0.005333</td>\n      <td>0.377358</td>\n      <td>3.840659</td>\n    </tr>\n    <tr>\n      <th>6</th>\n      <td>light cream</td>\n      <td>olive oil</td>\n      <td>0.003200</td>\n      <td>0.205128</td>\n      <td>3.114710</td>\n    </tr>\n    <tr>\n      <th>7</th>\n      <td>whole wheat pasta</td>\n      <td>olive oil</td>\n      <td>0.007999</td>\n      <td>0.271493</td>\n      <td>4.122410</td>\n    </tr>\n    <tr>\n      <th>8</th>\n      <td>pasta</td>\n      <td>shrimp</td>\n      <td>0.005066</td>\n      <td>0.322034</td>\n      <td>4.506672</td>\n    </tr>\n  </tbody>\n</table>\n</div>"
     },
     "metadata": {},
     "execution_count": 60
    }
   ],
   "source": [
    "res_df"
   ]
  },
  {
   "cell_type": "markdown",
   "metadata": {},
   "source": [
    "### Displaying the results sorted by descending lifts"
   ]
  },
  {
   "cell_type": "code",
   "execution_count": 63,
   "metadata": {},
   "outputs": [
    {
     "output_type": "execute_result",
     "data": {
      "text/plain": "         Left Hand Side Right Hand Side   Support  Confidence      Lift\n3         fromage blanc           honey  0.003333    0.245098  5.164271\n0           light cream         chicken  0.004533    0.290598  4.843951\n2                 pasta        escalope  0.005866    0.372881  4.700812\n8                 pasta          shrimp  0.005066    0.322034  4.506672\n7     whole wheat pasta       olive oil  0.007999    0.271493  4.122410\n5          tomato sauce     ground beef  0.005333    0.377358  3.840659\n1  mushroom cream sauce        escalope  0.005733    0.300699  3.790833\n4         herb & pepper     ground beef  0.015998    0.323450  3.291994\n6           light cream       olive oil  0.003200    0.205128  3.114710",
      "text/html": "<div>\n<style scoped>\n    .dataframe tbody tr th:only-of-type {\n        vertical-align: middle;\n    }\n\n    .dataframe tbody tr th {\n        vertical-align: top;\n    }\n\n    .dataframe thead th {\n        text-align: right;\n    }\n</style>\n<table border=\"1\" class=\"dataframe\">\n  <thead>\n    <tr style=\"text-align: right;\">\n      <th></th>\n      <th>Left Hand Side</th>\n      <th>Right Hand Side</th>\n      <th>Support</th>\n      <th>Confidence</th>\n      <th>Lift</th>\n    </tr>\n  </thead>\n  <tbody>\n    <tr>\n      <th>3</th>\n      <td>fromage blanc</td>\n      <td>honey</td>\n      <td>0.003333</td>\n      <td>0.245098</td>\n      <td>5.164271</td>\n    </tr>\n    <tr>\n      <th>0</th>\n      <td>light cream</td>\n      <td>chicken</td>\n      <td>0.004533</td>\n      <td>0.290598</td>\n      <td>4.843951</td>\n    </tr>\n    <tr>\n      <th>2</th>\n      <td>pasta</td>\n      <td>escalope</td>\n      <td>0.005866</td>\n      <td>0.372881</td>\n      <td>4.700812</td>\n    </tr>\n    <tr>\n      <th>8</th>\n      <td>pasta</td>\n      <td>shrimp</td>\n      <td>0.005066</td>\n      <td>0.322034</td>\n      <td>4.506672</td>\n    </tr>\n    <tr>\n      <th>7</th>\n      <td>whole wheat pasta</td>\n      <td>olive oil</td>\n      <td>0.007999</td>\n      <td>0.271493</td>\n      <td>4.122410</td>\n    </tr>\n    <tr>\n      <th>5</th>\n      <td>tomato sauce</td>\n      <td>ground beef</td>\n      <td>0.005333</td>\n      <td>0.377358</td>\n      <td>3.840659</td>\n    </tr>\n    <tr>\n      <th>1</th>\n      <td>mushroom cream sauce</td>\n      <td>escalope</td>\n      <td>0.005733</td>\n      <td>0.300699</td>\n      <td>3.790833</td>\n    </tr>\n    <tr>\n      <th>4</th>\n      <td>herb &amp; pepper</td>\n      <td>ground beef</td>\n      <td>0.015998</td>\n      <td>0.323450</td>\n      <td>3.291994</td>\n    </tr>\n    <tr>\n      <th>6</th>\n      <td>light cream</td>\n      <td>olive oil</td>\n      <td>0.003200</td>\n      <td>0.205128</td>\n      <td>3.114710</td>\n    </tr>\n  </tbody>\n</table>\n</div>"
     },
     "metadata": {},
     "execution_count": 63
    }
   ],
   "source": [
    "res_df.nlargest(columns= \"Lift\", n=10)"
   ]
  }
 ]
}