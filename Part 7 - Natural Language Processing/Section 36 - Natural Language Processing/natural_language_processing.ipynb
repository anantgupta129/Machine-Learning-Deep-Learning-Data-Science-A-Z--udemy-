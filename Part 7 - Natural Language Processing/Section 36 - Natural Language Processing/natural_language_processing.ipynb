{
 "metadata": {
  "language_info": {
   "codemirror_mode": {
    "name": "ipython",
    "version": 3
   },
   "file_extension": ".py",
   "mimetype": "text/x-python",
   "name": "python",
   "nbconvert_exporter": "python",
   "pygments_lexer": "ipython3",
   "version": "3.8.4-final"
  },
  "orig_nbformat": 2,
  "kernelspec": {
   "name": "python_defaultSpec_1597840768729",
   "display_name": "Python 3.8.4 64-bit"
  }
 },
 "nbformat": 4,
 "nbformat_minor": 2,
 "cells": [
  {
   "cell_type": "markdown",
   "metadata": {},
   "source": [
    "# NATURAL LANGUAGE PROCESSiNG"
   ]
  },
  {
   "cell_type": "code",
   "execution_count": 12,
   "metadata": {},
   "outputs": [],
   "source": [
    "import pandas as pd\n",
    "import matplotlib.pyplot as plt\n",
    "import numpy as np"
   ]
  },
  {
   "cell_type": "code",
   "execution_count": 3,
   "metadata": {},
   "outputs": [],
   "source": [
    "dts = pd.read_csv(\"Restaurant_Reviews.tsv\", delimiter = \"\\t\", quoting = 3)"
   ]
  },
  {
   "cell_type": "markdown",
   "metadata": {},
   "source": [
    "## Cleaning the text"
   ]
  },
  {
   "cell_type": "code",
   "execution_count": 6,
   "metadata": {
    "tags": []
   },
   "outputs": [
    {
     "output_type": "stream",
     "name": "stderr",
     "text": "[nltk_data] Downloading package stopwords to\n[nltk_data]     C:\\Users\\Dell\\AppData\\Roaming\\nltk_data...\n[nltk_data]   Package stopwords is already up-to-date!\n"
    }
   ],
   "source": [
    "import re\n",
    "import nltk\n",
    "nltk.download(\"stopwords\")\n",
    "from nltk.corpus import stopwords        #stopwords means removing words, such as the, is, at, which etc. as they don't effect reviews \n",
    "from nltk.stem.porter import PorterStemmer      #steming means simplifying words like converting loved to love as both are +ve review\n",
    "corpus = []\n",
    "for i in range(len(dts)):\n",
    "    review = re.sub('[^a-zA-Z]', ' ', dts['Review'][i])     # ^ means not, everything thats not a-z& A-Z like \"!':\" punctuations remove\n",
    "    review = review.lower()     \n",
    "    review = review.split()\n",
    "    ps = PorterStemmer()                      # steming to optimize the dimentionality of sparse matrix\n",
    "    all_stopwords = stopwords.words('english')\n",
    "    all_stopwords.remove(\"not\")\n",
    "    review =[ps.stem(word) for word in review if not word in set(all_stopwords)]    # \"\"\n",
    "    review = \" \".join(review)\n",
    "    corpus.append(review)"
   ]
  },
  {
   "cell_type": "markdown",
   "metadata": {},
   "source": [
    "## Creating the Bag of Words\n",
    "this process is also called Tokenization"
   ]
  },
  {
   "cell_type": "code",
   "execution_count": 7,
   "metadata": {},
   "outputs": [],
   "source": [
    "from sklearn.feature_extraction.text import CountVectorizer\n",
    "cv = CountVectorizer(max_features = 1500)\n",
    "x = cv.fit_transform(corpus).toarray()\n",
    "y = dts.iloc[:, -1].values"
   ]
  },
  {
   "cell_type": "code",
   "execution_count": 8,
   "metadata": {},
   "outputs": [
    {
     "output_type": "execute_result",
     "data": {
      "text/plain": "array([[0, 0, 0, ..., 0, 0, 0],\n       [0, 0, 0, ..., 0, 0, 0],\n       [0, 0, 0, ..., 0, 0, 0],\n       ...,\n       [0, 0, 0, ..., 0, 0, 0],\n       [0, 0, 0, ..., 0, 0, 0],\n       [0, 0, 0, ..., 0, 0, 0]], dtype=int64)"
     },
     "metadata": {},
     "execution_count": 8
    }
   ],
   "source": [
    "x"
   ]
  },
  {
   "cell_type": "markdown",
   "metadata": {},
   "source": [
    "## Spliting data to train set and test set"
   ]
  },
  {
   "cell_type": "code",
   "execution_count": 9,
   "metadata": {},
   "outputs": [],
   "source": [
    "from sklearn.model_selection import train_test_split\n",
    "x_train, x_test, y_train, y_test = train_test_split(x ,y ,random_state = 42, test_size= 0.25)"
   ]
  },
  {
   "cell_type": "markdown",
   "metadata": {},
   "source": [
    "## Training data to Naive Bayes model"
   ]
  },
  {
   "cell_type": "code",
   "execution_count": 10,
   "metadata": {},
   "outputs": [
    {
     "output_type": "execute_result",
     "data": {
      "text/plain": "GaussianNB()"
     },
     "metadata": {},
     "execution_count": 10
    }
   ],
   "source": [
    "from sklearn.naive_bayes import GaussianNB\n",
    "clf = GaussianNB()\n",
    "clf.fit(x_train, y_train)"
   ]
  },
  {
   "cell_type": "markdown",
   "metadata": {},
   "source": [
    "## Predicting test set results"
   ]
  },
  {
   "cell_type": "code",
   "execution_count": 13,
   "metadata": {
    "tags": []
   },
   "outputs": [
    {
     "output_type": "stream",
     "name": "stdout",
     "text": "[[0 1]\n [1 1]\n [1 1]\n [1 1]\n [1 1]\n [1 1]\n [1 0]\n [1 1]\n [1 0]\n [1 1]\n [1 0]\n [0 0]\n [1 0]\n [1 0]\n [1 0]\n [1 1]\n [1 1]\n [0 0]\n [1 0]\n [1 1]\n [1 1]\n [1 1]\n [1 0]\n [0 1]\n [1 0]\n [0 0]\n [0 1]\n [0 0]\n [1 0]\n [1 0]\n [1 1]\n [1 1]\n [1 0]\n [1 1]\n [0 0]\n [1 1]\n [0 1]\n [0 0]\n [1 1]\n [0 0]\n [1 0]\n [1 1]\n [1 1]\n [0 0]\n [1 1]\n [1 1]\n [0 0]\n [0 0]\n [1 1]\n [1 0]\n [1 0]\n [0 0]\n [1 0]\n [1 1]\n [1 1]\n [0 1]\n [0 0]\n [1 1]\n [0 0]\n [1 0]\n [0 0]\n [1 1]\n [1 1]\n [1 1]\n [1 1]\n [1 1]\n [1 1]\n [1 1]\n [1 1]\n [0 0]\n [1 1]\n [0 1]\n [1 1]\n [1 0]\n [1 1]\n [0 0]\n [1 1]\n [0 0]\n [1 0]\n [0 0]\n [0 0]\n [1 1]\n [1 0]\n [1 1]\n [1 1]\n [1 0]\n [1 0]\n [1 1]\n [1 1]\n [1 1]\n [1 1]\n [1 1]\n [1 0]\n [1 0]\n [0 1]\n [1 1]\n [1 1]\n [1 1]\n [1 1]\n [0 0]\n [1 1]\n [0 0]\n [0 0]\n [1 1]\n [1 1]\n [1 0]\n [1 0]\n [0 0]\n [0 0]\n [1 0]\n [1 1]\n [1 1]\n [1 0]\n [0 0]\n [0 0]\n [1 1]\n [1 1]\n [0 0]\n [0 0]\n [1 1]\n [1 0]\n [0 1]\n [1 0]\n [1 1]\n [0 1]\n [0 1]\n [1 1]\n [0 1]\n [1 1]\n [1 0]\n [0 0]\n [0 0]\n [0 1]\n [1 0]\n [1 1]\n [1 1]\n [1 0]\n [1 1]\n [1 1]\n [0 0]\n [0 0]\n [1 1]\n [1 1]\n [1 0]\n [1 0]\n [0 0]\n [1 0]\n [1 0]\n [0 1]\n [0 0]\n [0 0]\n [1 1]\n [0 0]\n [1 1]\n [0 0]\n [1 1]\n [1 1]\n [1 0]\n [0 0]\n [1 0]\n [1 1]\n [1 1]\n [0 0]\n [0 0]\n [1 1]\n [0 1]\n [1 0]\n [1 1]\n [1 1]\n [1 1]\n [1 1]\n [1 1]\n [1 0]\n [0 0]\n [1 1]\n [0 0]\n [0 1]\n [1 0]\n [0 0]\n [1 0]\n [1 1]\n [0 0]\n [1 1]\n [1 0]\n [1 0]\n [1 1]\n [0 1]\n [0 0]\n [0 0]\n [1 1]\n [0 0]\n [1 0]\n [1 1]\n [1 1]\n [1 0]\n [1 1]\n [1 1]\n [1 0]\n [0 0]\n [1 1]\n [1 0]\n [1 1]\n [0 0]\n [0 0]\n [1 1]\n [0 0]\n [1 1]\n [0 0]\n [1 0]\n [0 0]\n [1 1]\n [1 0]\n [0 0]\n [0 0]\n [0 0]\n [1 1]\n [1 1]\n [0 0]\n [1 1]\n [1 1]\n [1 0]\n [1 1]\n [0 0]\n [1 1]\n [1 1]\n [1 0]\n [0 0]\n [0 0]\n [1 0]\n [0 0]\n [0 0]\n [1 0]\n [0 1]\n [1 0]\n [0 0]\n [0 0]\n [1 0]\n [1 0]\n [1 0]\n [0 0]\n [1 1]\n [1 1]\n [1 1]\n [0 1]\n [1 0]\n [1 1]\n [1 0]\n [1 1]\n [0 0]\n [1 0]]\n"
    }
   ],
   "source": [
    "y_pred = clf.predict(x_test)\n",
    "res = np.concatenate((y_pred.reshape(len(y_pred), 1), y_test.reshape(len(y_test), 1)), 1)\n",
    "print(res)"
   ]
  },
  {
   "cell_type": "markdown",
   "metadata": {},
   "source": [
    "## making confusion matrix"
   ]
  },
  {
   "cell_type": "code",
   "execution_count": 14,
   "metadata": {
    "tags": []
   },
   "outputs": [
    {
     "output_type": "stream",
     "name": "stdout",
     "text": "[[ 66  62]\n [ 18 104]]\n"
    },
    {
     "output_type": "execute_result",
     "data": {
      "text/plain": "0.68"
     },
     "metadata": {},
     "execution_count": 14
    }
   ],
   "source": [
    "from sklearn.metrics import confusion_matrix, accuracy_score\n",
    "cm = confusion_matrix(y_test, y_pred)\n",
    "print(cm)\n",
    "accuracy_score(y_test, y_pred)"
   ]
  },
  {
   "cell_type": "markdown",
   "metadata": {},
   "source": [
    "## Predicting if a single review is positive or negative"
   ]
  },
  {
   "cell_type": "markdown",
   "metadata": {},
   "source": [
    "### Positive review\n",
    "Use our model to predict if the following review:\n",
    "\n",
    "\"I love this restaurant so much\"\n",
    "\n",
    "is positive or negative.\n"
   ]
  },
  {
   "cell_type": "code",
   "execution_count": 16,
   "metadata": {
    "tags": []
   },
   "outputs": [
    {
     "output_type": "stream",
     "name": "stdout",
     "text": "[1]\n"
    }
   ],
   "source": [
    "new_review = \"I love this restaurant so much\"\n",
    "new_review = re.sub('[^a-zA-Z]', ' ', new_review)\n",
    "new_review = new_review.lower()     \n",
    "new_review = new_review.split()\n",
    "ps = PorterStemmer()                    \n",
    "all_stopwords = stopwords.words('english')\n",
    "all_stopwords.remove(\"not\")\n",
    "new_review =[ps.stem(word) for word in new_review if not word in set(all_stopwords)] \n",
    "new_review = \" \".join(new_review)\n",
    "new_corpus = [new_review]\n",
    "new_X = cv.transform(new_corpus).toarray()\n",
    "new_pred = clf.predict(new_X)\n",
    "print(new_pred)"
   ]
  },
  {
   "cell_type": "markdown",
   "metadata": {},
   "source": [
    "### Negative review\n",
    "Use our model to predict if the following review:\n",
    "\n",
    "\"I hate this restaurant so much\"\n",
    "\n",
    "is positive or negative.\n"
   ]
  },
  {
   "cell_type": "code",
   "execution_count": 17,
   "metadata": {
    "tags": []
   },
   "outputs": [
    {
     "output_type": "stream",
     "name": "stdout",
     "text": "[0]\n"
    }
   ],
   "source": [
    "new_review = 'I hate this restaurant so much'\n",
    "new_review = re.sub('[^a-zA-Z]', ' ', new_review)\n",
    "new_review = new_review.lower()     \n",
    "new_review = new_review.split()\n",
    "ps = PorterStemmer()                    \n",
    "all_stopwords = stopwords.words('english')\n",
    "all_stopwords.remove(\"not\")\n",
    "new_review =[ps.stem(word) for word in new_review if not word in set(all_stopwords)] \n",
    "new_review = \" \".join(new_review)\n",
    "new_corpus = [new_review]\n",
    "new_X = cv.transform(new_corpus).toarray()\n",
    "new_pred = clf.predict(new_X)\n",
    "print(new_pred)"
   ]
  }
 ]
}